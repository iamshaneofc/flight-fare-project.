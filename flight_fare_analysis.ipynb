{
 "cells": [
  {
   "cell_type": "markdown",
   "id": "245186b8",
   "metadata": {},
   "source": [
    "## Flight Price Prediction (EDA + Analysis)"
   ]
  },
  {
   "cell_type": "code",
   "execution_count": null,
   "id": "692f0d82",
   "metadata": {},
   "outputs": [],
   "source": [
    "# Importing necessary libraries\n",
    "import pandas as pd\n",
    "import numpy as np\n",
    "import matplotlib.pyplot as plt\n",
    "import seaborn as sns\n",
    "from sklearn.model_selection import train_test_split\n",
    "from sklearn.metrics import r2_score\n",
    "import xgboost as xgb\n",
    "%matplotlib inline"
   ]
  },
  {
   "cell_type": "code",
   "execution_count": null,
   "id": "c938a072",
   "metadata": {},
   "outputs": [],
   "source": [
    "# Load the dataset\n",
    "try:\n",
    "    train_df = pd.read_excel('Data_Train.xlsx')\n",
    "    print(\"Dataset loaded successfully!\")\n",
    "except FileNotFoundError:\n",
    "    print(\"Error: 'Data_Train.xlsx' not found. Please ensure the file is in the working directory.\")\n",
    "    raise\n",
    "\n",
    "# Create a working copy\n",
    "final_df = train_df.copy()\n",
    "print(\"Dataset Shape:\", final_df.shape)\n",
    "final_df.head()"
   ]
  },
  {
   "cell_type": "code",
   "execution_count": null,
   "id": "ba75708d",
   "metadata": {},
   "outputs": [],
   "source": [
    "# Basic Exploratory Data Analysis\n",
    "print(\"Dataset Info:\")\n",
    "final_df.info()\n",
    "\n",
    "print(\"\\nMissing Values:\")\n",
    "print(final_df.isnull().sum())\n",
    "\n",
    "print(\"\\nFirst Few Rows:\")\n",
    "print(final_df.head())\n",
    "\n",
    "print(\"\\nLast Few Rows:\")\n",
    "print(final_df.tail())"
   ]
  },
  {
   "cell_type": "code",
   "execution_count": null,
   "id": "f566879e",
   "metadata": {},
   "outputs": [],
   "source": [
    "# Analyze Categorical Features\n",
    "print(\"Unique Airlines:\")\n",
    "print(final_df['Airline'].unique())\n",
    "\n",
    "print(\"\\nAirline Distribution:\")\n",
    "print(final_df['Airline'].value_counts())\n",
    "\n",
    "# Plot Airline Distribution\n",
    "plt.figure(figsize=(12, 6))\n",
    "sns.countplot(x='Airline', data=final_df, order=final_df['Airline'].value_counts().index)\n",
    "plt.xticks(rotation=45, ha='right')\n",
    "plt.title('Distribution of Airlines')\n",
    "plt.xlabel('Airline')\n",
    "plt.ylabel('Count')\n",
    "plt.tight_layout()\n",
    "plt.show()"
   ]
  },
  {
   "cell_type": "code",
   "execution_count": null,
   "id": "84f33eb8",
   "metadata": {},
   "outputs": [],
   "source": [
    "# Feature Engineering for Analysis\n",
    "# Handle missing values\n",
    "final_df.dropna(inplace=True)\n",
    "\n",
    "# Split Date_of_Journey\n",
    "final_df['Date'] = final_df['Date_of_Journey'].str.split('/').str[0].astype(int)\n",
    "final_df['Month'] = final_df['Date_of_Journey'].str.split('/').str[1].astype(int)\n",
    "final_df['Year'] = final_df['Date_of_Journey'].str.split('/').str[2].astype(int)\n",
    "\n",
    "# Convert Dep_Time and Arrival_Time\n",
    "final_df['Dep_hour'] = pd.to_datetime(final_df['Dep_Time'], format='%H:%M').dt.hour\n",
    "final_df['Dep_min'] = pd.to_datetime(final_df['Dep_Time'], format='%H:%M').dt.minute\n",
    "\n",
    "final_df['Arrival_Time'] = final_df['Arrival_Time'].str.split(' ').str[0]\n",
    "final_df['Arrival_hour'] = pd.to_datetime(final_df['Arrival_Time'], format='%H:%M').dt.hour\n",
    "final_df['Arrival_min'] = pd.to_datetime(final_df['Arrival_Time'], format='%H:%M').dt.minute\n",
    "\n",
    "# Convert Duration to minutes\n",
    "def duration_to_minutes(duration):\n",
    "    hours, minutes = 0, 0\n",
    "    if 'h' in duration:\n",
    "        hours = int(duration.split('h')[0])\n",
    "        duration = duration.split('h')[1]\n",
    "    if 'm' in duration:\n",
    "        minutes = int(duration.split('m')[0])\n",
    "    return hours * 60 + minutes\n",
    "\n",
    "final_df['Duration_minutes'] = final_df['Duration'].apply(duration_to_minutes)\n",
    "\n",
    "# Encode Total_Stops\n",
    "final_df['Total_Stops'] = final_df['Total_Stops'].map({\n",
    "    'non-stop': 0, '1 stop': 1, '2 stops': 2, '3 stops': 3, '4 stops': 4\n",
    "})\n",
    "\n",
    "print(\"Processed Dataframe Head:\")\n",
    "final_df.head()"
   ]
  },
  {
   "cell_type": "code",
   "execution_count": null,
   "id": "9b8aa197",
   "metadata": {},
   "outputs": [],
   "source": [
    "# Additional Visualizations\n",
    "# Price Distribution\n",
    "plt.figure(figsize=(10, 6))\n",
    "sns.histplot(final_df['Price'], bins=50, kde=True, color='blue')\n",
    "plt.title('Distribution of Flight Prices')\n",
    "plt.xlabel('Price (₹)')\n",
    "plt.ylabel('Frequency')\n",
    "plt.show()\n",
    "\n",
    "# Price vs Total Stops\n",
    "plt.figure(figsize=(10, 6))\n",
    "sns.boxplot(x='Total_Stops', y='Price', data=final_df)\n",
    "plt.title('Price vs Total Stops')\n",
    "plt.xlabel('Number of Stops')\n",
    "plt.ylabel('Price (₹)')\n",
    "plt.show()\n",
    "\n",
    "# Price vs Airline\n",
    "plt.figure(figsize=(12, 6))\n",
    "sns.boxplot(x='Airline', y='Price', data=final_df)\n",
    "plt.xticks(rotation=45, ha='right')\n",
    "plt.title('Price vs Airline')\n",
    "plt.xlabel('Airline')\n",
    "plt.ylabel('Price (₹)')\n",
    "plt.tight_layout()\n",
    "plt.show()"
   ]
  },
  {
   "cell_type": "code",
   "execution_count": null,
   "id": "06a2a62f",
   "metadata": {},
   "outputs": [],
   "source": [
    "# Correlation Analysis\n",
    "# Select numerical columns for correlation\n",
    "numeric_cols = ['Price', 'Total_Stops', 'Date', 'Month', 'Dep_hour', 'Dep_min', \n",
    "                'Arrival_hour', 'Arrival_min', 'Duration_minutes']\n",
    "correlation_matrix = final_df[numeric_cols].corr()\n",
    "\n",
    "# Heatmap\n",
    "plt.figure(figsize=(10, 8))\n",
    "sns.heatmap(correlation_matrix, annot=True, cmap='coolwarm', fmt='.2f')\n",
    "plt.title('Correlation Matrix of Numerical Features')\n",
    "plt.show()"
   ]
  },
  {
   "cell_type": "code",
   "execution_count": null,
   "id": "c4f28c29",
   "metadata": {},
   "outputs": [],
   "source": [
    "# Model Training and Evaluation (for Scatter Plot)\n",
    "# Prepare features and target\n",
    "final_df_encoded = pd.get_dummies(final_df.drop(['Date_of_Journey', 'Dep_Time', 'Arrival_Time', \n",
    "                                                 'Duration', 'Route', 'Additional_Info'], axis=1),\n",
    "                                  columns=['Airline', 'Source', 'Destination'])\n",
    "X = final_df_encoded.drop('Price', axis=1)\n",
    "y = final_df_encoded['Price']\n",
    "\n",
    "# Train-test split\n",
    "X_train, X_test, y_train, y_test = train_test_split(X, y, test_size=0.2, random_state=42)\n",
    "\n",
    "# Train XGBoost model\n",
    "xgb_model = xgb.XGBRegressor(n_estimators=500, learning_rate=0.1, max_depth=5, random_state=42)\n",
    "xgb_model.fit(X_train, y_train)\n",
    "\n",
    "# Predictions\n",
    "y_pred = xgb_model.predict(X_test)\n",
    "\n",
    "# R² Score\n",
    "accuracy = r2_score(y_test, y_pred)\n",
    "print(f\"R² Score: {accuracy:.4f}\")"
   ]
  },
  {
   "cell_type": "code",
   "execution_count": null,
   "id": "f8fa8d7d",
   "metadata": {},
   "outputs": [],
   "source": [
    "# Scatter Plot of Predictions (Your Original Graph)\n",
    "plt.figure(figsize=(8, 8))\n",
    "plt.scatter(y_test, y_pred, alpha=0.5, color='blue')\n",
    "plt.plot([y_test.min(), y_test.max()], [y_test.min(), y_test.max()], 'r--', lw=2)\n",
    "plt.xlabel('Actual Price (y_test)')\n",
    "plt.ylabel('Predicted Price (y_pred)')\n",
    "plt.title('Actual vs Predicted Flight Prices')\n",
    "plt.tight_layout()\n",
    "plt.show()"
   ]
  }
 ],
 "metadata": {
  "kernelspec": {
   "display_name": "flight_env",
   "language": "python",
   "name": "python3"
  },
  "language_info": {
   "codemirror_mode": {
    "name": "ipython",
    "version": 3
   },
   "file_extension": ".py",
   "mimetype": "text/x-python",
   "name": "python",
   "nbconvert_exporter": "python",
   "pygments_lexer": "ipython3",
   "version": "3.12.4"
  }
 },
 "nbformat": 4,
 "nbformat_minor": 5
}