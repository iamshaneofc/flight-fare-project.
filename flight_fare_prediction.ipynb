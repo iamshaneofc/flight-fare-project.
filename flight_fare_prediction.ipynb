{
 "cells": [
  {
   "cell_type": "markdown",
   "id": "245186b8",
   "metadata": {},
   "source": [
    "## Flight Price Prediction (EDA + Feature Engineering)"
   ]
  },
  {
   "cell_type": "code",
   "execution_count": 11,
   "id": "692f0d82",
   "metadata": {},
   "outputs": [],
   "source": [
    "# Importing necessary libraries\n",
    "import pandas as pd\n",
    "import numpy as np\n",
    "import matplotlib.pyplot as plt\n",
    "import seaborn as sns\n",
    "from sklearn.model_selection import train_test_split\n",
    "from sklearn.metrics import r2_score\n",
    "import xgboost as xgb\n",
    "import pickle\n",
    "%matplotlib inline"
   ]
  },
  {
   "cell_type": "code",
   "execution_count": 12,
   "id": "c938a072",
   "metadata": {},
   "outputs": [
    {
     "name": "stdout",
     "output_type": "stream",
     "text": [
      "Dataset loaded successfully!\n",
      "       Airline Date_of_Journey    Source Destination                  Route  \\\n",
      "0       IndiGo      24/03/2019  Banglore   New Delhi              BLR → DEL   \n",
      "1    Air India       1/05/2019   Kolkata    Banglore  CCU → IXR → BBI → BLR   \n",
      "2  Jet Airways       9/06/2019     Delhi      Cochin  DEL → LKO → BOM → COK   \n",
      "3       IndiGo      12/05/2019   Kolkata    Banglore        CCU → NAG → BLR   \n",
      "4       IndiGo      01/03/2019  Banglore   New Delhi        BLR → NAG → DEL   \n",
      "\n",
      "  Dep_Time  Arrival_Time Duration Total_Stops Additional_Info  Price  \n",
      "0    22:20  01:10 22 Mar   2h 50m    non-stop         No info   3897  \n",
      "1    05:50         13:15   7h 25m     2 stops         No info   7662  \n",
      "2    09:25  04:25 10 Jun      19h     2 stops         No info  13882  \n",
      "3    18:05         23:30   5h 25m      1 stop         No info   6218  \n",
      "4    16:50         21:35   4h 45m      1 stop         No info  13302  \n"
     ]
    }
   ],
   "source": [
    "# Load the dataset\n",
    "try:\n",
    "    train_df = pd.read_excel('Data_Train.xlsx')\n",
    "    print(\"Dataset loaded successfully!\")\n",
    "    print(train_df.head())\n",
    "except FileNotFoundError:\n",
    "    print(\"Error: 'Data_Train.xlsx' not found. Please ensure the file is in the working directory.\")"
   ]
  },
  {
   "cell_type": "code",
   "execution_count": 13,
   "id": "38718b95",
   "metadata": {},
   "outputs": [
    {
     "name": "stdout",
     "output_type": "stream",
     "text": [
      "Shape of the dataset: (10683, 11)\n"
     ]
    }
   ],
   "source": [
    "# Create a copy to avoid modifying the original dataframe\n",
    "final_df = train_df.copy()\n",
    "print(\"Shape of the dataset:\", final_df.shape)"
   ]
  },
  {
   "cell_type": "code",
   "execution_count": 14,
   "id": "ba75708d",
   "metadata": {},
   "outputs": [
    {
     "name": "stdout",
     "output_type": "stream",
     "text": [
      "\n",
      "Dataset Info:\n",
      "<class 'pandas.core.frame.DataFrame'>\n",
      "RangeIndex: 10683 entries, 0 to 10682\n",
      "Data columns (total 11 columns):\n",
      " #   Column           Non-Null Count  Dtype \n",
      "---  ------           --------------  ----- \n",
      " 0   Airline          10683 non-null  object\n",
      " 1   Date_of_Journey  10683 non-null  object\n",
      " 2   Source           10683 non-null  object\n",
      " 3   Destination      10683 non-null  object\n",
      " 4   Route            10682 non-null  object\n",
      " 5   Dep_Time         10683 non-null  object\n",
      " 6   Arrival_Time     10683 non-null  object\n",
      " 7   Duration         10683 non-null  object\n",
      " 8   Total_Stops      10682 non-null  object\n",
      " 9   Additional_Info  10683 non-null  object\n",
      " 10  Price            10683 non-null  int64 \n",
      "dtypes: int64(1), object(10)\n",
      "memory usage: 918.2+ KB\n",
      "\n",
      "Missing Values:\n",
      "Airline            0\n",
      "Date_of_Journey    0\n",
      "Source             0\n",
      "Destination        0\n",
      "Route              1\n",
      "Dep_Time           0\n",
      "Arrival_Time       0\n",
      "Duration           0\n",
      "Total_Stops        1\n",
      "Additional_Info    0\n",
      "Price              0\n",
      "dtype: int64\n",
      "\n",
      "Unique Airlines:\n",
      "Airline\n",
      "Jet Airways                          3849\n",
      "IndiGo                               2053\n",
      "Air India                            1752\n",
      "Multiple carriers                    1196\n",
      "SpiceJet                              818\n",
      "Vistara                               479\n",
      "Air Asia                              319\n",
      "GoAir                                 194\n",
      "Multiple carriers Premium economy      13\n",
      "Jet Airways Business                    6\n",
      "Vistara Premium economy                 3\n",
      "Trujet                                  1\n",
      "Name: count, dtype: int64\n"
     ]
    }
   ],
   "source": [
    "# Basic EDA\n",
    "print(\"\\nDataset Info:\")\n",
    "final_df.info()\n",
    "print(\"\\nMissing Values:\")\n",
    "print(final_df.isnull().sum())\n",
    "print(\"\\nUnique Airlines:\")\n",
    "print(final_df['Airline'].value_counts())"
   ]
  },
  {
   "cell_type": "code",
   "execution_count": 15,
   "id": "f566879e",
   "metadata": {},
   "outputs": [
    {
     "name": "stdout",
     "output_type": "stream",
     "text": [
      "\n",
      "Processed Dataframe Head:\n",
      "   Total_Stops  Price  Date  Month  Year  Dep_hour  Dep_min  Arrival_hour  \\\n",
      "0            0   3897    24      3  2019        22       20             1   \n",
      "1            2   7662     1      5  2019         5       50            13   \n",
      "2            2  13882     9      6  2019         9       25             4   \n",
      "3            1   6218    12      5  2019        18        5            23   \n",
      "4            1  13302     1      3  2019        16       50            21   \n",
      "\n",
      "   Arrival_min  Duration_minutes  ...  Destination_New Delhi  \\\n",
      "0           10               170  ...                   True   \n",
      "1           15               445  ...                  False   \n",
      "2           25              1140  ...                  False   \n",
      "3           30               325  ...                  False   \n",
      "4           35               285  ...                   True   \n",
      "\n",
      "   Additional_Info_1 Short layover  Additional_Info_2 Long layover  \\\n",
      "0                            False                           False   \n",
      "1                            False                           False   \n",
      "2                            False                           False   \n",
      "3                            False                           False   \n",
      "4                            False                           False   \n",
      "\n",
      "   Additional_Info_Business class  Additional_Info_Change airports  \\\n",
      "0                           False                            False   \n",
      "1                           False                            False   \n",
      "2                           False                            False   \n",
      "3                           False                            False   \n",
      "4                           False                            False   \n",
      "\n",
      "   Additional_Info_In-flight meal not included  Additional_Info_No Info  \\\n",
      "0                                        False                    False   \n",
      "1                                        False                    False   \n",
      "2                                        False                    False   \n",
      "3                                        False                    False   \n",
      "4                                        False                    False   \n",
      "\n",
      "   Additional_Info_No check-in baggage included  Additional_Info_No info  \\\n",
      "0                                         False                     True   \n",
      "1                                         False                     True   \n",
      "2                                         False                     True   \n",
      "3                                         False                     True   \n",
      "4                                         False                     True   \n",
      "\n",
      "   Additional_Info_Red-eye flight  \n",
      "0                           False  \n",
      "1                           False  \n",
      "2                           False  \n",
      "3                           False  \n",
      "4                           False  \n",
      "\n",
      "[5 rows x 39 columns]\n"
     ]
    }
   ],
   "source": [
    "# Feature Engineering\n",
    "# Handle missing values\n",
    "final_df.dropna(inplace=True)  # Drop rows with missing values (Route, Total_Stops)\n",
    "\n",
    "# Split Date_of_Journey\n",
    "final_df['Date'] = final_df['Date_of_Journey'].str.split('/').str[0].astype(int)\n",
    "final_df['Month'] = final_df['Date_of_Journey'].str.split('/').str[1].astype(int)\n",
    "final_df['Year'] = final_df['Date_of_Journey'].str.split('/').str[2].astype(int)\n",
    "final_df.drop('Date_of_Journey', axis=1, inplace=True)\n",
    "\n",
    "# Convert Dep_Time and Arrival_Time to hours and minutes\n",
    "final_df['Dep_hour'] = pd.to_datetime(final_df['Dep_Time'], format='%H:%M').dt.hour\n",
    "final_df['Dep_min'] = pd.to_datetime(final_df['Dep_Time'], format='%H:%M').dt.minute\n",
    "final_df.drop('Dep_Time', axis=1, inplace=True)\n",
    "\n",
    "# Arrival_Time may include date, so we split it\n",
    "final_df['Arrival_Time'] = final_df['Arrival_Time'].str.split(' ').str[0]\n",
    "final_df['Arrival_hour'] = pd.to_datetime(final_df['Arrival_Time'], format='%H:%M').dt.hour\n",
    "final_df['Arrival_min'] = pd.to_datetime(final_df['Arrival_Time'], format='%H:%M').dt.minute\n",
    "final_df.drop('Arrival_Time', axis=1, inplace=True)\n",
    "\n",
    "# Convert Duration to total minutes\n",
    "def duration_to_minutes(duration):\n",
    "    hours, minutes = 0, 0\n",
    "    if 'h' in duration:\n",
    "        hours = int(duration.split('h')[0])\n",
    "        duration = duration.split('h')[1]\n",
    "    if 'm' in duration:\n",
    "        minutes = int(duration.split('m')[0])\n",
    "    return hours * 60 + minutes\n",
    "\n",
    "final_df['Duration_minutes'] = final_df['Duration'].apply(duration_to_minutes)\n",
    "final_df.drop('Duration', axis=1, inplace=True)\n",
    "\n",
    "# Encode Total_Stops\n",
    "final_df['Total_Stops'] = final_df['Total_Stops'].map({\n",
    "    'non-stop': 0,\n",
    "    '1 stop': 1,\n",
    "    '2 stops': 2,\n",
    "    '3 stops': 3,\n",
    "    '4 stops': 4\n",
    "})\n",
    "\n",
    "# Drop Route (too granular, Total_Stops captures similar info)\n",
    "final_df.drop('Route', axis=1, inplace=True)\n",
    "\n",
    "# Encode categorical variables\n",
    "final_df = pd.get_dummies(final_df, columns=['Airline', 'Source', 'Destination', 'Additional_Info'], drop_first=True)\n",
    "\n",
    "print(\"\\nProcessed Dataframe Head:\")\n",
    "print(final_df.head())"
   ]
  },
  {
   "cell_type": "code",
   "execution_count": 16,
   "id": "84f33eb8",
   "metadata": {},
   "outputs": [
    {
     "name": "stdout",
     "output_type": "stream",
     "text": [
      "R² Score: 0.9144\n"
     ]
    }
   ],
   "source": [
    "# Prepare features and target\n",
    "X = final_df.drop('Price', axis=1)\n",
    "y = final_df['Price']\n",
    "\n",
    "# Train-test split\n",
    "X_train, X_test, y_train, y_test = train_test_split(X, y, test_size=0.2, random_state=42)\n",
    "\n",
    "# Train XGBoost model\n",
    "xgb_model = xgb.XGBRegressor(\n",
    "    n_estimators=500,\n",
    "    learning_rate=0.1,\n",
    "    max_depth=5,\n",
    "    colsample_bytree=0.8,\n",
    "    random_state=42\n",
    ")\n",
    "xgb_model.fit(X_train, y_train)\n",
    "\n",
    "# Make predictions\n",
    "y_pred = xgb_model.predict(X_test)\n",
    "\n",
    "# Evaluate the model\n",
    "accuracy = r2_score(y_test, y_pred)\n",
    "print(f\"R² Score: {accuracy:.4f}\")"
   ]
  },
  {
   "cell_type": "code",
   "execution_count": 17,
   "id": "9b8aa197",
   "metadata": {},
   "outputs": [
    {
     "data": {
      "image/png": "[encoded data removed]",
      "text/plain": [
       "<Figure size 800x800 with 1 Axes>"
      ]
     },
     "metadata": {},
     "output_type": "display_data"
    }
   ],
   "source": [
    "# Visualization of predictions\n",
    "plt.figure(figsize=(8, 8))\n",
    "plt.scatter(y_test, y_pred, alpha=0.5)\n",
    "plt.plot([y_test.min(), y_test.max()], [y_test.min(), y_test.max()], 'r--', lw=2)  # Diagonal line\n",
    "plt.xlabel(\"Actual Price (y_test)\")\n",
    "plt.ylabel(\"Predicted Price (y_pred)\")\n",
    "plt.title(\"Actual vs Predicted Flight Prices\")\n",
    "plt.show()"
   ]
  },
  {
   "cell_type": "code",
   "execution_count": 18,
   "id": "06a2a62f",
   "metadata": {},
   "outputs": [
    {
     "name": "stdout",
     "output_type": "stream",
     "text": [
      "Model saved to flight_price_prediction.sav\n"
     ]
    }
   ],
   "source": [
    "# Save the model\n",
    "filename = 'flight_price_prediction.sav'\n",
    "with open(filename, 'wb') as f:\n",
    "    pickle.dump(xgb_model, f)\n",
    "print(f\"Model saved to {filename}\")"
   ]
  },
  {
   "cell_type": "code",
   "execution_count": 19,
   "id": "c4f28c29",
   "metadata": {},
   "outputs": [
    {
     "name": "stdout",
     "output_type": "stream",
     "text": [
      "Loaded Model: XGBRegressor(base_score=None, booster=None, callbacks=None,\n",
      "             colsample_bylevel=None, colsample_bynode=None,\n",
      "             colsample_bytree=0.8, device=None, early_stopping_rounds=None,\n",
      "             enable_categorical=False, eval_metric=None, feature_types=None,\n",
      "             feature_weights=None, gamma=None, grow_policy=None,\n",
      "             importance_type=None, interaction_constraints=None,\n",
      "             learning_rate=0.1, max_bin=None, max_cat_threshold=None,\n",
      "             max_cat_to_onehot=None, max_delta_step=None, max_depth=5,\n",
      "             max_leaves=None, min_child_weight=None, missing=nan,\n",
      "             monotone_constraints=None, multi_strategy=None, n_estimators=500,\n",
      "             n_jobs=None, num_parallel_tree=None, ...)\n",
      "Sample Predictions: [16907.37   5497.258  8522.15   3956.175 12161.989]\n"
     ]
    }
   ],
   "source": [
    "# Load and test the saved model\n",
    "with open('flight_price_prediction.sav', 'rb') as f:\n",
    "    loaded_model = pickle.load(f)\n",
    "print(\"Loaded Model:\", loaded_model)\n",
    "\n",
    "predictions = loaded_model.predict(X_test)\n",
    "print(\"Sample Predictions:\", predictions[:5])"
   ]
  },
  {
   "cell_type": "code",
   "execution_count": 20,
   "id": "f8fa8d7d",
   "metadata": {},
   "outputs": [
    {
     "name": "stdout",
     "output_type": "stream",
     "text": [
      "Model columns saved successfully!\n",
      "Columns used in training: ['Total_Stops', 'Date', 'Month', 'Year', 'Dep_hour', 'Dep_min', 'Arrival_hour', 'Arrival_min', 'Duration_minutes', 'Airline_Air India', 'Airline_GoAir', 'Airline_IndiGo', 'Airline_Jet Airways', 'Airline_Jet Airways Business', 'Airline_Multiple carriers', 'Airline_Multiple carriers Premium economy', 'Airline_SpiceJet', 'Airline_Trujet', 'Airline_Vistara', 'Airline_Vistara Premium economy', 'Source_Chennai', 'Source_Delhi', 'Source_Kolkata', 'Source_Mumbai', 'Destination_Cochin', 'Destination_Delhi', 'Destination_Hyderabad', 'Destination_Kolkata', 'Destination_New Delhi', 'Additional_Info_1 Short layover', 'Additional_Info_2 Long layover', 'Additional_Info_Business class', 'Additional_Info_Change airports', 'Additional_Info_In-flight meal not included', 'Additional_Info_No Info', 'Additional_Info_No check-in baggage included', 'Additional_Info_No info', 'Additional_Info_Red-eye flight']\n"
     ]
    }
   ],
   "source": [
    "# Save model columns for future reference\n",
    "model_columns = list(X_train.columns)\n",
    "with open('model_columns.pkl', 'wb') as f:\n",
    "    pickle.dump(model_columns, f)\n",
    "print(\"Model columns saved successfully!\")\n",
    "print(\"Columns used in training:\", model_columns)"
   ]
  }
 ],
 "metadata": {
  "kernelspec": {
   "display_name": "flight_env",
   "language": "python",
   "name": "python3"
  },
  "language_info": {
   "codemirror_mode": {
    "name": "ipython",
    "version": 3
   },
   "file_extension": ".py",
   "mimetype": "text/x-python",
   "name": "python",
   "nbconvert_exporter": "python",
   "pygments_lexer": "ipython3",
   "version": "3.12.4"
  }
 },
 "nbformat": 4,
 "nbformat_minor": 5
}
